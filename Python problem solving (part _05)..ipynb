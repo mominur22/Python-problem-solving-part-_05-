{
 "cells": [
  {
   "cell_type": "markdown",
   "id": "3ea1a9bc",
   "metadata": {},
   "source": [
    "# Python problem solving (part _05)"
   ]
  },
  {
   "cell_type": "markdown",
   "id": "e5cd5a85",
   "metadata": {},
   "source": [
    "# Write a Python program using nested loops to print the following pattern:\n",
    "\n",
    "\n",
    "\n"
   ]
  },
  {
   "cell_type": "code",
   "execution_count": 2,
   "id": "c64c0ec7",
   "metadata": {},
   "outputs": [
    {
     "name": "stdout",
     "output_type": "stream",
     "text": [
      "*\n",
      "**\n",
      "***\n",
      "****\n",
      "*****\n"
     ]
    }
   ],
   "source": [
    "# Use nested loops to print the pattern\n",
    "for i in range(1, 6):\n",
    "    for j in range(i):\n",
    "        print(\"*\", end=\"\")\n",
    "    print()\n"
   ]
  },
  {
   "cell_type": "markdown",
   "id": "36b0b30a",
   "metadata": {},
   "source": [
    "# 32. Matrix Multiplication: Write a Python program using nested loops to multiply two matrices."
   ]
  },
  {
   "cell_type": "code",
   "execution_count": 3,
   "id": "77326df4",
   "metadata": {},
   "outputs": [
    {
     "name": "stdout",
     "output_type": "stream",
     "text": [
      "[114, 160, 60, 27]\n",
      "[74, 97, 73, 14]\n",
      "[119, 157, 112, 23]\n"
     ]
    }
   ],
   "source": [
    "# Program to multiply two matrices using nested loops\n",
    "\n",
    "# 3x3 matrix\n",
    "X = [[12,7,3],\n",
    "    [4 ,5,6],\n",
    "    [7 ,8,9]]\n",
    "# 3x4 matrix\n",
    "Y = [[5,8,1,2],\n",
    "    [6,7,3,0],\n",
    "    [4,5,9,1]]\n",
    "# result is 3x4\n",
    "result = [[0,0,0,0],\n",
    "         [0,0,0,0],\n",
    "         [0,0,0,0]]\n",
    "\n",
    "# iterate through rows of X\n",
    "for i in range(len(X)):\n",
    "   # iterate through columns of Y\n",
    "   for j in range(len(Y[0])):\n",
    "       # iterate through rows of Y\n",
    "       for k in range(len(Y)):\n",
    "           result[i][j] += X[i][k] * Y[k][j]\n",
    "\n",
    "for r in result:\n",
    "   print(r)\n"
   ]
  },
  {
   "cell_type": "markdown",
   "id": "a886ba1c",
   "metadata": {},
   "source": [
    "# 33. Chessboard Pattern: Write a Python program using nested loops to print a chessboard pattern (alternating “X” and “O” characters) of size 8×8.34. Number Pyramid: Write a Python program using nested loops to print a number pyramid like the following: 1 22 333 4444 55555\n",
    "\n",
    " "
   ]
  },
  {
   "cell_type": "code",
   "execution_count": 4,
   "id": "7fecc8f8",
   "metadata": {},
   "outputs": [
    {
     "name": "stdout",
     "output_type": "stream",
     "text": [
      "X O X O X O X O \n",
      "O X O X O X O X \n",
      "X O X O X O X O \n",
      "O X O X O X O X \n",
      "X O X O X O X O \n",
      "O X O X O X O X \n",
      "X O X O X O X O \n",
      "O X O X O X O X \n"
     ]
    }
   ],
   "source": [
    "# Use nested loops to print a chessboard pattern\n",
    "size = 8\n",
    "\n",
    "for i in range(size):\n",
    "    for j in range(size):\n",
    "        # Alternate \"X\" and \"O\" based on the sum of row and column indices\n",
    "        if (i + j) % 2 == 0:\n",
    "            print(\"X\", end=\" \")\n",
    "        else:\n",
    "            print(\"O\", end=\" \")\n",
    "    print()  # Move to the next line for the next row\n"
   ]
  },
  {
   "cell_type": "markdown",
   "id": "647b015b",
   "metadata": {},
   "source": [
    "# List Problems:"
   ]
  },
  {
   "cell_type": "markdown",
   "id": "8bdf261d",
   "metadata": {},
   "source": [
    "# 34. List Sum: Write a Python program to find the sum of all elements in a given list of integers."
   ]
  },
  {
   "cell_type": "code",
   "execution_count": null,
   "id": "845a2349",
   "metadata": {},
   "outputs": [],
   "source": [
    "#input the list of integers\n",
    "input_list = input(\"Enter a list of integers separated by spaces: \")\n",
    "integer_list = [int(x) for x in input_list.split()]\n",
    "\n",
    "# Calculate the sum of elements in the list\n",
    "sum_of_elements = sum(integer_list)\n",
    "print(f\"The sum of elements in the list is: {sum_of_elements}\")"
   ]
  },
  {
   "cell_type": "markdown",
   "id": "234868a3",
   "metadata": {},
   "source": [
    "# 35. List Average: Write a Python program to calculate the average of all elements in a given list of integers."
   ]
  },
  {
   "cell_type": "code",
   "execution_count": null,
   "id": "9a33a129",
   "metadata": {},
   "outputs": [],
   "source": [
    "n=int(input(\"Enter the number of elements to be inserted: \"))\n",
    "a=[]\n",
    "for i in range(0,n):\n",
    "    elem=int(input(\"Enter element: \"))\n",
    "    a.append(elem)\n",
    "avg=sum(a)/n\n",
    "print(\"Average of elements in the list\",round(avg,2))"
   ]
  },
  {
   "cell_type": "markdown",
   "id": "f4ddf33a",
   "metadata": {},
   "source": [
    "# 36. List Max and Min: Write a Python program to find the maximum and minimum values in a given list of integers."
   ]
  },
  {
   "cell_type": "code",
   "execution_count": null,
   "id": "60f8693b",
   "metadata": {},
   "outputs": [],
   "source": [
    "def max_min(data):\n",
    "    s = data[0]\n",
    "    \n",
    "    for num in data:\n",
    "        if num > l:\n",
    "            l = num  \n",
    "        elif num < s:\n",
    "            s = num  \n",
    "    return l, s\n",
    "\n",
    "print(max_min([0, 10, 15, 40, -5, 42, 17, 28, 75]))\n"
   ]
  },
  {
   "cell_type": "code",
   "execution_count": null,
   "id": "3e515714",
   "metadata": {},
   "outputs": [],
   "source": []
  }
 ],
 "metadata": {
  "kernelspec": {
   "display_name": "Python 3 (ipykernel)",
   "language": "python",
   "name": "python3"
  },
  "language_info": {
   "codemirror_mode": {
    "name": "ipython",
    "version": 3
   },
   "file_extension": ".py",
   "mimetype": "text/x-python",
   "name": "python",
   "nbconvert_exporter": "python",
   "pygments_lexer": "ipython3",
   "version": "3.11.5"
  }
 },
 "nbformat": 4,
 "nbformat_minor": 5
}
